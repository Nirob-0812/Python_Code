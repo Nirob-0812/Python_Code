{
 "cells": [
  {
   "cell_type": "code",
   "execution_count": 1,
   "metadata": {},
   "outputs": [
    {
     "name": "stdout",
     "output_type": "stream",
     "text": [
      "\n",
      "\n",
      "\n",
      "NNNNNNNN                      TTTTTTTTTTTTTTTTTTTT\n",
      "NNNN  NNNN                            NNNN\n",
      "NNNN    NNNN                          NNNN\n",
      "NNNN      NNNN                        NNNN\n",
      "NNNN        NNNN                      NNNN\n",
      "NNNN          NNNN                    NNNN\n",
      "NNNN            NNNN                  NNNN\n",
      "NNNN              NNNN                NNNN\n",
      "NNNN                NNNN              NNNN\n",
      "NNNN                  NNNN            NNNN\n",
      "NNNN                    NNNN          NNNN\n",
      "NNNN                      NNNN        NNNN\n",
      "NNNN                        NNNN      NNNN\n",
      "NNNN                          NNNN    NNNN\n",
      "NNNN                            NNNN  NNNN\n",
      "NNNN                              NNNNNNNN\n"
     ]
    }
   ],
   "source": [
    "thikness=4\n",
    "n=\"N\"\n",
    "t=\"T\"\n",
    "ts=thikness\n",
    "tc=thikness*2\n",
    "print(\"\\n\\n\")\n",
    "for i in range(thikness*4):\n",
    "    print((n * thikness).ljust(thikness)+(\"  \"*i)+(n*thikness).rjust(thikness)+(\"  \"*((thikness*4)-i-1-ts))+(tc*\"T\")+((t*thikness) if i==0 else (n*thikness)).ljust(thikness)+(tc*\"T\"))\n",
    "    ts=0\n",
    "    tc=0"
   ]
  }
 ],
 "metadata": {
  "kernelspec": {
   "display_name": "venv",
   "language": "python",
   "name": "python3"
  },
  "language_info": {
   "codemirror_mode": {
    "name": "ipython",
    "version": 3
   },
   "file_extension": ".py",
   "mimetype": "text/x-python",
   "name": "python",
   "nbconvert_exporter": "python",
   "pygments_lexer": "ipython3",
   "version": "3.10.7"
  },
  "orig_nbformat": 4
 },
 "nbformat": 4,
 "nbformat_minor": 2
}
