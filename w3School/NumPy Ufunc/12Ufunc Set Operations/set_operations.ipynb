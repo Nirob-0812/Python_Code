{
 "cells": [
  {
   "attachments": {},
   "cell_type": "markdown",
   "metadata": {},
   "source": [
    "Create Sets in NumPy"
   ]
  },
  {
   "cell_type": "code",
   "execution_count": 2,
   "metadata": {},
   "outputs": [
    {
     "name": "stdout",
     "output_type": "stream",
     "text": [
      "[1 2 3 4 5 7 8]\n"
     ]
    }
   ],
   "source": [
    "import numpy as np\n",
    "\n",
    "arr=np.array([2,1,1,1,2,2,3,4,5,5,7,8,7,3])\n",
    "print(np.unique(arr))"
   ]
  },
  {
   "attachments": {},
   "cell_type": "markdown",
   "metadata": {},
   "source": [
    "Finding Union"
   ]
  },
  {
   "cell_type": "code",
   "execution_count": 3,
   "metadata": {},
   "outputs": [
    {
     "name": "stdout",
     "output_type": "stream",
     "text": [
      "[ 1  2  3  4  5  6  8  9 11]\n"
     ]
    }
   ],
   "source": [
    "import  numpy as np\n",
    "\n",
    "arr1=np.array([1,2,4,5,3,4])\n",
    "arr2=np.array([2,5,6,8,9,11])\n",
    "\n",
    "print(np.union1d(arr1,arr2))"
   ]
  },
  {
   "attachments": {},
   "cell_type": "markdown",
   "metadata": {},
   "source": [
    "Finding Intersection"
   ]
  },
  {
   "cell_type": "code",
   "execution_count": 4,
   "metadata": {},
   "outputs": [
    {
     "name": "stdout",
     "output_type": "stream",
     "text": [
      "[2 5]\n"
     ]
    }
   ],
   "source": [
    "import  numpy as np\n",
    "\n",
    "arr1=np.array([1,2,4,5,3,4])\n",
    "arr2=np.array([2,5,6,8,9,11])\n",
    "\n",
    "print(np.intersect1d(arr1,arr2))"
   ]
  },
  {
   "attachments": {},
   "cell_type": "markdown",
   "metadata": {},
   "source": [
    "Finding Difference"
   ]
  },
  {
   "cell_type": "code",
   "execution_count": 7,
   "metadata": {},
   "outputs": [
    {
     "name": "stdout",
     "output_type": "stream",
     "text": [
      "[1 3 4]\n"
     ]
    }
   ],
   "source": [
    "import  numpy as np\n",
    "\n",
    "arr1=np.array([1,2,4,5,3,4])\n",
    "arr2=np.array([2,5,6,8,9,11])\n",
    "\n",
    "print(np.setdiff1d(arr1,arr2))"
   ]
  },
  {
   "attachments": {},
   "cell_type": "markdown",
   "metadata": {},
   "source": [
    "Finding Symmetric Difference"
   ]
  },
  {
   "cell_type": "code",
   "execution_count": 8,
   "metadata": {},
   "outputs": [
    {
     "name": "stdout",
     "output_type": "stream",
     "text": [
      "[ 1  3  4  6  8  9 11]\n"
     ]
    }
   ],
   "source": [
    "import  numpy as np\n",
    "\n",
    "arr1=np.array([1,2,4,5,3,4])\n",
    "arr2=np.array([2,5,6,8,9,11])\n",
    "\n",
    "print(np.setxor1d(arr1,arr2))"
   ]
  },
  {
   "cell_type": "markdown",
   "metadata": {},
   "source": []
  },
  {
   "cell_type": "code",
   "execution_count": null,
   "metadata": {},
   "outputs": [],
   "source": []
  }
 ],
 "metadata": {
  "kernelspec": {
   "display_name": "venv",
   "language": "python",
   "name": "python3"
  },
  "language_info": {
   "codemirror_mode": {
    "name": "ipython",
    "version": 3
   },
   "file_extension": ".py",
   "mimetype": "text/x-python",
   "name": "python",
   "nbconvert_exporter": "python",
   "pygments_lexer": "ipython3",
   "version": "3.10.7 (tags/v3.10.7:6cc6b13, Sep  5 2022, 14:08:36) [MSC v.1933 64 bit (AMD64)]"
  },
  "orig_nbformat": 4,
  "vscode": {
   "interpreter": {
    "hash": "7acfb38f359ee2d8432273092000a5fb7b7b894bf4d051ea8acd11100cf7e9dc"
   }
  }
 },
 "nbformat": 4,
 "nbformat_minor": 2
}
