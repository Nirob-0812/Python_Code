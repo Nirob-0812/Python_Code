{
 "cells": [
  {
   "attachments": {},
   "cell_type": "markdown",
   "metadata": {},
   "source": [
    "Locate Row"
   ]
  },
  {
   "cell_type": "code",
   "execution_count": 7,
   "metadata": {},
   "outputs": [
    {
     "name": "stdout",
     "output_type": "stream",
     "text": [
      "Calories     234\n",
      "Durations     45\n",
      "Name: 0, dtype: int64\n"
     ]
    }
   ],
   "source": [
    "import pandas as pd\n",
    "\n",
    "dataset={\n",
    "    \"Calories\":[234,244,534,246],\n",
    "    \"Durations\":[45,34,23,64]\n",
    "}\n",
    "dataframe=pd.DataFrame(dataset)\n",
    "print(dataframe.loc[0])\n"
   ]
  },
  {
   "attachments": {},
   "cell_type": "markdown",
   "metadata": {},
   "source": [
    "Return row 0 and 1:"
   ]
  },
  {
   "cell_type": "code",
   "execution_count": 10,
   "metadata": {},
   "outputs": [
    {
     "name": "stdout",
     "output_type": "stream",
     "text": [
      "   Calories  Durations\n",
      "0       234         45\n",
      "3       246         64\n"
     ]
    }
   ],
   "source": [
    "import pandas as pd\n",
    "\n",
    "dataset={\n",
    "    \"Calories\":[234,244,534,246],\n",
    "    \"Durations\":[45,34,23,64]\n",
    "}\n",
    "dataframe=pd.DataFrame(dataset)\n",
    "print(dataframe.loc[[0,3]])\n"
   ]
  },
  {
   "attachments": {},
   "cell_type": "markdown",
   "metadata": {},
   "source": [
    "Add a list of names to give each row a name:"
   ]
  },
  {
   "cell_type": "code",
   "execution_count": 11,
   "metadata": {},
   "outputs": [
    {
     "name": "stdout",
     "output_type": "stream",
     "text": [
      "      Calories  Duration\n",
      "Day1       234        23\n",
      "Day2       545        53\n",
      "Day3       353        67\n",
      "Day4       363        24\n"
     ]
    }
   ],
   "source": [
    "import pandas as pd\n",
    "\n",
    "data={\n",
    "    \"Calories\":[234,545,353,363],\n",
    "    \"Duration\":[23,53,67,24]\n",
    "}\n",
    "frame=pd.DataFrame(data,index=[\"Day1\",\"Day2\",\"Day3\",\"Day4\"])\n",
    "print(frame)"
   ]
  },
  {
   "attachments": {},
   "cell_type": "markdown",
   "metadata": {},
   "source": [
    "Locate Named Indexes"
   ]
  },
  {
   "cell_type": "code",
   "execution_count": 15,
   "metadata": {},
   "outputs": [
    {
     "name": "stdout",
     "output_type": "stream",
     "text": [
      "      Calories  Duration\n",
      "Day1       234        23\n",
      "Day3       353        67\n"
     ]
    }
   ],
   "source": [
    "import pandas as pd\n",
    "\n",
    "data={\n",
    "    \"Calories\":[234,545,353,363],\n",
    "    \"Duration\":[23,53,67,24]\n",
    "}\n",
    "frame=pd.DataFrame(data,index=[\"Day1\",\"Day2\",\"Day3\",\"Day4\"])\n",
    "print(frame.loc[[\"Day1\",\"Day3\"]])"
   ]
  },
  {
   "attachments": {},
   "cell_type": "markdown",
   "metadata": {},
   "source": [
    "Load Files Into a DataFrame"
   ]
  },
  {
   "cell_type": "code",
   "execution_count": 2,
   "metadata": {},
   "outputs": [
    {
     "name": "stdout",
     "output_type": "stream",
     "text": [
      "     Duration  Pulse  Maxpulse  Calories\n",
      "0          60    110       130     409.1\n",
      "1          60    117       145     479.0\n",
      "2          60    103       135     340.0\n",
      "3          45    109       175     282.4\n",
      "4          45    117       148     406.0\n",
      "..        ...    ...       ...       ...\n",
      "164        60    105       140     290.8\n",
      "165        60    110       145     300.0\n",
      "166        60    115       145     310.2\n",
      "167        75    120       150     320.4\n",
      "168        75    125       150     330.4\n",
      "\n",
      "[169 rows x 4 columns]\n"
     ]
    }
   ],
   "source": [
    "import pandas as pd\n",
    "\n",
    "data=pd.read_csv(\"data.csv\")\n",
    "print(data)"
   ]
  }
 ],
 "metadata": {
  "kernelspec": {
   "display_name": "venv",
   "language": "python",
   "name": "python3"
  },
  "language_info": {
   "codemirror_mode": {
    "name": "ipython",
    "version": 3
   },
   "file_extension": ".py",
   "mimetype": "text/x-python",
   "name": "python",
   "nbconvert_exporter": "python",
   "pygments_lexer": "ipython3",
   "version": "3.10.7 (tags/v3.10.7:6cc6b13, Sep  5 2022, 14:08:36) [MSC v.1933 64 bit (AMD64)]"
  },
  "orig_nbformat": 4,
  "vscode": {
   "interpreter": {
    "hash": "7acfb38f359ee2d8432273092000a5fb7b7b894bf4d051ea8acd11100cf7e9dc"
   }
  }
 },
 "nbformat": 4,
 "nbformat_minor": 2
}
