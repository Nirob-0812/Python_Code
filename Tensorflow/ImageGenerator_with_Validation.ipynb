{
 "cells": [
  {
   "cell_type": "code",
   "execution_count": null,
   "metadata": {},
   "outputs": [],
   "source": [
    "import matplotlib.pyplot as plt \n",
    "import os\n",
    "\n",
    "horse_dir=\"Dataset/horses\"\n",
    "human_dir=\"Dataset/humans\"\n",
    "\n",
    "horse_file=os.listdir(horse_dir)\n",
    "horse_file=os.listdir(horse_dir)\n",
    "\n"
   ]
  }
 ],
 "metadata": {
  "language_info": {
   "name": "python"
  }
 },
 "nbformat": 4,
 "nbformat_minor": 2
}
