{
  "cells": [
    {
      "cell_type": "code",
      "execution_count": 20,
      "metadata": {
        "colab": {
          "base_uri": "https://localhost:8080/",
          "height": 255
        },
        "id": "xrEscbcez8tL",
        "outputId": "33e8d409-d38b-494f-8012-364cfc4c11cb"
      },
      "outputs": [
        {
          "data": {
            "text/html": [
              "<div>\n",
              "<style scoped>\n",
              "    .dataframe tbody tr th:only-of-type {\n",
              "        vertical-align: middle;\n",
              "    }\n",
              "\n",
              "    .dataframe tbody tr th {\n",
              "        vertical-align: top;\n",
              "    }\n",
              "\n",
              "    .dataframe thead th {\n",
              "        text-align: right;\n",
              "    }\n",
              "</style>\n",
              "<table border=\"1\" class=\"dataframe\">\n",
              "  <thead>\n",
              "    <tr style=\"text-align: right;\">\n",
              "      <th></th>\n",
              "      <th>id</th>\n",
              "      <th>gender</th>\n",
              "      <th>s11</th>\n",
              "      <th>s12</th>\n",
              "      <th>s13</th>\n",
              "      <th>s16</th>\n",
              "      <th>s17</th>\n",
              "      <th>s18</th>\n",
              "      <th>s48</th>\n",
              "      <th>s52</th>\n",
              "      <th>...</th>\n",
              "      <th>n7</th>\n",
              "      <th>n8</th>\n",
              "      <th>n9</th>\n",
              "      <th>n10</th>\n",
              "      <th>n11</th>\n",
              "      <th>n12</th>\n",
              "      <th>n13</th>\n",
              "      <th>n14</th>\n",
              "      <th>n15</th>\n",
              "      <th>label</th>\n",
              "    </tr>\n",
              "  </thead>\n",
              "  <tbody>\n",
              "    <tr>\n",
              "      <th>0</th>\n",
              "      <td>b'gAAAAABinOicS09vrmgh0_JyEHihI13ptO0rCyHP7l76...</td>\n",
              "      <td>M</td>\n",
              "      <td>Y</td>\n",
              "      <td>N</td>\n",
              "      <td>1</td>\n",
              "      <td>D</td>\n",
              "      <td>D</td>\n",
              "      <td>B</td>\n",
              "      <td>0</td>\n",
              "      <td>1</td>\n",
              "      <td>...</td>\n",
              "      <td>-9.126056</td>\n",
              "      <td>1.732291</td>\n",
              "      <td>3.698504</td>\n",
              "      <td>4.804517</td>\n",
              "      <td>1.544484</td>\n",
              "      <td>0</td>\n",
              "      <td>0</td>\n",
              "      <td>0.631220</td>\n",
              "      <td>5</td>\n",
              "      <td>0</td>\n",
              "    </tr>\n",
              "    <tr>\n",
              "      <th>1</th>\n",
              "      <td>b'gAAAAABinOiWGC1WhR6WYP0DA5ssGv9rIekrWUwCdJ8F...</td>\n",
              "      <td>M</td>\n",
              "      <td>Y</td>\n",
              "      <td>Y</td>\n",
              "      <td>1</td>\n",
              "      <td>D</td>\n",
              "      <td>D</td>\n",
              "      <td>B</td>\n",
              "      <td>1</td>\n",
              "      <td>1</td>\n",
              "      <td>...</td>\n",
              "      <td>-9.098287</td>\n",
              "      <td>1.505885</td>\n",
              "      <td>6.791357</td>\n",
              "      <td>6.110416</td>\n",
              "      <td>1.712354</td>\n",
              "      <td>0</td>\n",
              "      <td>0</td>\n",
              "      <td>0.392746</td>\n",
              "      <td>3</td>\n",
              "      <td>1</td>\n",
              "    </tr>\n",
              "    <tr>\n",
              "      <th>2</th>\n",
              "      <td>b'gAAAAABinOibTcOBFIVeA4nVF3FuFz_QX3ZlPPFc21gS...</td>\n",
              "      <td>M</td>\n",
              "      <td>Y</td>\n",
              "      <td>Y</td>\n",
              "      <td>1</td>\n",
              "      <td>D</td>\n",
              "      <td>D</td>\n",
              "      <td>B</td>\n",
              "      <td>0</td>\n",
              "      <td>1</td>\n",
              "      <td>...</td>\n",
              "      <td>-9.234894</td>\n",
              "      <td>1.503828</td>\n",
              "      <td>4.109685</td>\n",
              "      <td>3.953226</td>\n",
              "      <td>1.804260</td>\n",
              "      <td>0</td>\n",
              "      <td>0</td>\n",
              "      <td>0.222537</td>\n",
              "      <td>2</td>\n",
              "      <td>0</td>\n",
              "    </tr>\n",
              "    <tr>\n",
              "      <th>3</th>\n",
              "      <td>b'gAAAAABinOig-g3-Q1ggjlMhfUSdn21Aj5yVVeVvXbis...</td>\n",
              "      <td>F</td>\n",
              "      <td>Y</td>\n",
              "      <td>Y</td>\n",
              "      <td>1</td>\n",
              "      <td>D</td>\n",
              "      <td>D</td>\n",
              "      <td>B</td>\n",
              "      <td>0</td>\n",
              "      <td>1</td>\n",
              "      <td>...</td>\n",
              "      <td>-9.378025</td>\n",
              "      <td>1.485863</td>\n",
              "      <td>7.265876</td>\n",
              "      <td>4.559419</td>\n",
              "      <td>1.537645</td>\n",
              "      <td>0</td>\n",
              "      <td>0</td>\n",
              "      <td>0.154409</td>\n",
              "      <td>4</td>\n",
              "      <td>0</td>\n",
              "    </tr>\n",
              "    <tr>\n",
              "      <th>4</th>\n",
              "      <td>b'gAAAAABinOiXdoaNUzihOSbyY1tjWtd5EgMaXkkvH6SV...</td>\n",
              "      <td>M</td>\n",
              "      <td>N</td>\n",
              "      <td>Y</td>\n",
              "      <td>1</td>\n",
              "      <td>B</td>\n",
              "      <td>D</td>\n",
              "      <td>D</td>\n",
              "      <td>1</td>\n",
              "      <td>l</td>\n",
              "      <td>...</td>\n",
              "      <td>-9.261962</td>\n",
              "      <td>1.619210</td>\n",
              "      <td>3.737647</td>\n",
              "      <td>4.052003</td>\n",
              "      <td>1.637831</td>\n",
              "      <td>0</td>\n",
              "      <td>1</td>\n",
              "      <td>0.737560</td>\n",
              "      <td>1</td>\n",
              "      <td>0</td>\n",
              "    </tr>\n",
              "  </tbody>\n",
              "</table>\n",
              "<p>5 rows × 36 columns</p>\n",
              "</div>"
            ],
            "text/plain": [
              "                                                  id gender s11 s12  s13 s16  \\\n",
              "0  b'gAAAAABinOicS09vrmgh0_JyEHihI13ptO0rCyHP7l76...      M   Y   N    1   D   \n",
              "1  b'gAAAAABinOiWGC1WhR6WYP0DA5ssGv9rIekrWUwCdJ8F...      M   Y   Y    1   D   \n",
              "2  b'gAAAAABinOibTcOBFIVeA4nVF3FuFz_QX3ZlPPFc21gS...      M   Y   Y    1   D   \n",
              "3  b'gAAAAABinOig-g3-Q1ggjlMhfUSdn21Aj5yVVeVvXbis...      F   Y   Y    1   D   \n",
              "4  b'gAAAAABinOiXdoaNUzihOSbyY1tjWtd5EgMaXkkvH6SV...      M   N   Y    1   B   \n",
              "\n",
              "  s17 s18  s48 s52  ...        n7        n8        n9       n10       n11 n12  \\\n",
              "0   D   B    0   1  ... -9.126056  1.732291  3.698504  4.804517  1.544484   0   \n",
              "1   D   B    1   1  ... -9.098287  1.505885  6.791357  6.110416  1.712354   0   \n",
              "2   D   B    0   1  ... -9.234894  1.503828  4.109685  3.953226  1.804260   0   \n",
              "3   D   B    0   1  ... -9.378025  1.485863  7.265876  4.559419  1.537645   0   \n",
              "4   D   D    1   l  ... -9.261962  1.619210  3.737647  4.052003  1.637831   0   \n",
              "\n",
              "   n13       n14 n15 label  \n",
              "0    0  0.631220   5     0  \n",
              "1    0  0.392746   3     1  \n",
              "2    0  0.222537   2     0  \n",
              "3    0  0.154409   4     0  \n",
              "4    1  0.737560   1     0  \n",
              "\n",
              "[5 rows x 36 columns]"
            ]
          },
          "execution_count": 20,
          "metadata": {},
          "output_type": "execute_result"
        }
      ],
      "source": [
        "import pandas as pd\n",
        "\n",
        "train_df=pd.read_csv(\"train.csv\")\n",
        "train_df.head()"
      ]
    },
    {
      "cell_type": "code",
      "execution_count": 21,
      "metadata": {
        "colab": {
          "base_uri": "https://localhost:8080/"
        },
        "id": "adV9TwmY0NyA",
        "outputId": "e095a4ed-f517-4742-dccb-2eba12ad1a64"
      },
      "outputs": [
        {
          "data": {
            "text/plain": [
              "(28322, 36)"
            ]
          },
          "execution_count": 21,
          "metadata": {},
          "output_type": "execute_result"
        }
      ],
      "source": [
        "train_df.shape"
      ]
    },
    {
      "cell_type": "code",
      "execution_count": 22,
      "metadata": {
        "colab": {
          "base_uri": "https://localhost:8080/",
          "height": 349
        },
        "id": "_jD5zvAi0bl6",
        "outputId": "12af2d47-9ff1-4a92-8d49-787e0b3e92af"
      },
      "outputs": [
        {
          "data": {
            "text/html": [
              "<div>\n",
              "<style scoped>\n",
              "    .dataframe tbody tr th:only-of-type {\n",
              "        vertical-align: middle;\n",
              "    }\n",
              "\n",
              "    .dataframe tbody tr th {\n",
              "        vertical-align: top;\n",
              "    }\n",
              "\n",
              "    .dataframe thead th {\n",
              "        text-align: right;\n",
              "    }\n",
              "</style>\n",
              "<table border=\"1\" class=\"dataframe\">\n",
              "  <thead>\n",
              "    <tr style=\"text-align: right;\">\n",
              "      <th></th>\n",
              "      <th>s13</th>\n",
              "      <th>s48</th>\n",
              "      <th>s56</th>\n",
              "      <th>s57</th>\n",
              "      <th>s59</th>\n",
              "      <th>n1</th>\n",
              "      <th>n2</th>\n",
              "      <th>n3</th>\n",
              "      <th>n4</th>\n",
              "      <th>n5</th>\n",
              "      <th>...</th>\n",
              "      <th>n7</th>\n",
              "      <th>n8</th>\n",
              "      <th>n9</th>\n",
              "      <th>n10</th>\n",
              "      <th>n11</th>\n",
              "      <th>n12</th>\n",
              "      <th>n13</th>\n",
              "      <th>n14</th>\n",
              "      <th>n15</th>\n",
              "      <th>label</th>\n",
              "    </tr>\n",
              "  </thead>\n",
              "  <tbody>\n",
              "    <tr>\n",
              "      <th>count</th>\n",
              "      <td>28322.000000</td>\n",
              "      <td>28322.000000</td>\n",
              "      <td>0.0</td>\n",
              "      <td>0.0</td>\n",
              "      <td>0.0</td>\n",
              "      <td>28322.000000</td>\n",
              "      <td>28322.000000</td>\n",
              "      <td>28322.000000</td>\n",
              "      <td>28322.000000</td>\n",
              "      <td>28322.000000</td>\n",
              "      <td>...</td>\n",
              "      <td>28322.000000</td>\n",
              "      <td>28322.000000</td>\n",
              "      <td>28322.000000</td>\n",
              "      <td>28322.000000</td>\n",
              "      <td>28322.000000</td>\n",
              "      <td>28322.000000</td>\n",
              "      <td>28322.000000</td>\n",
              "      <td>28322.000000</td>\n",
              "      <td>28322.000000</td>\n",
              "      <td>28322.000000</td>\n",
              "    </tr>\n",
              "    <tr>\n",
              "      <th>mean</th>\n",
              "      <td>0.983123</td>\n",
              "      <td>0.433338</td>\n",
              "      <td>NaN</td>\n",
              "      <td>NaN</td>\n",
              "      <td>NaN</td>\n",
              "      <td>10.201863</td>\n",
              "      <td>1.600111</td>\n",
              "      <td>4.805099</td>\n",
              "      <td>5.080537</td>\n",
              "      <td>-32.641183</td>\n",
              "      <td>...</td>\n",
              "      <td>-9.107429</td>\n",
              "      <td>1.612428</td>\n",
              "      <td>5.232644</td>\n",
              "      <td>6.115109</td>\n",
              "      <td>1.699553</td>\n",
              "      <td>0.009992</td>\n",
              "      <td>0.089506</td>\n",
              "      <td>0.497570</td>\n",
              "      <td>2.997740</td>\n",
              "      <td>0.168067</td>\n",
              "    </tr>\n",
              "    <tr>\n",
              "      <th>std</th>\n",
              "      <td>0.128814</td>\n",
              "      <td>0.495545</td>\n",
              "      <td>NaN</td>\n",
              "      <td>NaN</td>\n",
              "      <td>NaN</td>\n",
              "      <td>4.414660</td>\n",
              "      <td>0.664985</td>\n",
              "      <td>2.199282</td>\n",
              "      <td>2.276162</td>\n",
              "      <td>0.241453</td>\n",
              "      <td>...</td>\n",
              "      <td>0.205200</td>\n",
              "      <td>0.173560</td>\n",
              "      <td>2.179705</td>\n",
              "      <td>2.474138</td>\n",
              "      <td>0.115150</td>\n",
              "      <td>0.099462</td>\n",
              "      <td>0.285478</td>\n",
              "      <td>0.289207</td>\n",
              "      <td>2.007611</td>\n",
              "      <td>0.373933</td>\n",
              "    </tr>\n",
              "    <tr>\n",
              "      <th>min</th>\n",
              "      <td>0.000000</td>\n",
              "      <td>0.000000</td>\n",
              "      <td>NaN</td>\n",
              "      <td>NaN</td>\n",
              "      <td>NaN</td>\n",
              "      <td>2.200736</td>\n",
              "      <td>0.311727</td>\n",
              "      <td>0.000000</td>\n",
              "      <td>1.700370</td>\n",
              "      <td>-33.167589</td>\n",
              "      <td>...</td>\n",
              "      <td>-9.517986</td>\n",
              "      <td>1.178469</td>\n",
              "      <td>2.508858</td>\n",
              "      <td>1.173465</td>\n",
              "      <td>1.500006</td>\n",
              "      <td>0.000000</td>\n",
              "      <td>0.000000</td>\n",
              "      <td>0.000101</td>\n",
              "      <td>0.000000</td>\n",
              "      <td>0.000000</td>\n",
              "    </tr>\n",
              "    <tr>\n",
              "      <th>25%</th>\n",
              "      <td>1.000000</td>\n",
              "      <td>0.000000</td>\n",
              "      <td>NaN</td>\n",
              "      <td>NaN</td>\n",
              "      <td>NaN</td>\n",
              "      <td>6.592127</td>\n",
              "      <td>1.013540</td>\n",
              "      <td>3.000000</td>\n",
              "      <td>2.833161</td>\n",
              "      <td>-32.862207</td>\n",
              "      <td>...</td>\n",
              "      <td>-9.258473</td>\n",
              "      <td>1.489924</td>\n",
              "      <td>3.464229</td>\n",
              "      <td>4.414671</td>\n",
              "      <td>1.600056</td>\n",
              "      <td>0.000000</td>\n",
              "      <td>0.000000</td>\n",
              "      <td>0.247801</td>\n",
              "      <td>1.000000</td>\n",
              "      <td>0.000000</td>\n",
              "    </tr>\n",
              "    <tr>\n",
              "      <th>50%</th>\n",
              "      <td>1.000000</td>\n",
              "      <td>0.000000</td>\n",
              "      <td>NaN</td>\n",
              "      <td>NaN</td>\n",
              "      <td>NaN</td>\n",
              "      <td>9.535961</td>\n",
              "      <td>1.462197</td>\n",
              "      <td>5.000000</td>\n",
              "      <td>4.840320</td>\n",
              "      <td>-32.577026</td>\n",
              "      <td>...</td>\n",
              "      <td>-9.174557</td>\n",
              "      <td>1.537263</td>\n",
              "      <td>4.461770</td>\n",
              "      <td>5.317154</td>\n",
              "      <td>1.698556</td>\n",
              "      <td>0.000000</td>\n",
              "      <td>0.000000</td>\n",
              "      <td>0.495255</td>\n",
              "      <td>3.000000</td>\n",
              "      <td>0.000000</td>\n",
              "    </tr>\n",
              "    <tr>\n",
              "      <th>75%</th>\n",
              "      <td>1.000000</td>\n",
              "      <td>1.000000</td>\n",
              "      <td>NaN</td>\n",
              "      <td>NaN</td>\n",
              "      <td>NaN</td>\n",
              "      <td>14.432580</td>\n",
              "      <td>2.194510</td>\n",
              "      <td>6.000000</td>\n",
              "      <td>7.300738</td>\n",
              "      <td>-32.396733</td>\n",
              "      <td>...</td>\n",
              "      <td>-8.964786</td>\n",
              "      <td>1.730249</td>\n",
              "      <td>6.524341</td>\n",
              "      <td>7.027610</td>\n",
              "      <td>1.799238</td>\n",
              "      <td>0.000000</td>\n",
              "      <td>0.000000</td>\n",
              "      <td>0.748786</td>\n",
              "      <td>5.000000</td>\n",
              "      <td>0.000000</td>\n",
              "    </tr>\n",
              "    <tr>\n",
              "      <th>max</th>\n",
              "      <td>1.000000</td>\n",
              "      <td>1.000000</td>\n",
              "      <td>NaN</td>\n",
              "      <td>NaN</td>\n",
              "      <td>NaN</td>\n",
              "      <td>20.882733</td>\n",
              "      <td>3.137331</td>\n",
              "      <td>9.000000</td>\n",
              "      <td>8.594620</td>\n",
              "      <td>-32.289180</td>\n",
              "      <td>...</td>\n",
              "      <td>-8.586583</td>\n",
              "      <td>2.173593</td>\n",
              "      <td>11.214870</td>\n",
              "      <td>12.029135</td>\n",
              "      <td>1.899995</td>\n",
              "      <td>1.000000</td>\n",
              "      <td>1.000000</td>\n",
              "      <td>0.999990</td>\n",
              "      <td>6.000000</td>\n",
              "      <td>1.000000</td>\n",
              "    </tr>\n",
              "  </tbody>\n",
              "</table>\n",
              "<p>8 rows × 21 columns</p>\n",
              "</div>"
            ],
            "text/plain": [
              "                s13           s48  s56  s57  s59            n1            n2  \\\n",
              "count  28322.000000  28322.000000  0.0  0.0  0.0  28322.000000  28322.000000   \n",
              "mean       0.983123      0.433338  NaN  NaN  NaN     10.201863      1.600111   \n",
              "std        0.128814      0.495545  NaN  NaN  NaN      4.414660      0.664985   \n",
              "min        0.000000      0.000000  NaN  NaN  NaN      2.200736      0.311727   \n",
              "25%        1.000000      0.000000  NaN  NaN  NaN      6.592127      1.013540   \n",
              "50%        1.000000      0.000000  NaN  NaN  NaN      9.535961      1.462197   \n",
              "75%        1.000000      1.000000  NaN  NaN  NaN     14.432580      2.194510   \n",
              "max        1.000000      1.000000  NaN  NaN  NaN     20.882733      3.137331   \n",
              "\n",
              "                 n3            n4            n5  ...            n7  \\\n",
              "count  28322.000000  28322.000000  28322.000000  ...  28322.000000   \n",
              "mean       4.805099      5.080537    -32.641183  ...     -9.107429   \n",
              "std        2.199282      2.276162      0.241453  ...      0.205200   \n",
              "min        0.000000      1.700370    -33.167589  ...     -9.517986   \n",
              "25%        3.000000      2.833161    -32.862207  ...     -9.258473   \n",
              "50%        5.000000      4.840320    -32.577026  ...     -9.174557   \n",
              "75%        6.000000      7.300738    -32.396733  ...     -8.964786   \n",
              "max        9.000000      8.594620    -32.289180  ...     -8.586583   \n",
              "\n",
              "                 n8            n9           n10           n11           n12  \\\n",
              "count  28322.000000  28322.000000  28322.000000  28322.000000  28322.000000   \n",
              "mean       1.612428      5.232644      6.115109      1.699553      0.009992   \n",
              "std        0.173560      2.179705      2.474138      0.115150      0.099462   \n",
              "min        1.178469      2.508858      1.173465      1.500006      0.000000   \n",
              "25%        1.489924      3.464229      4.414671      1.600056      0.000000   \n",
              "50%        1.537263      4.461770      5.317154      1.698556      0.000000   \n",
              "75%        1.730249      6.524341      7.027610      1.799238      0.000000   \n",
              "max        2.173593     11.214870     12.029135      1.899995      1.000000   \n",
              "\n",
              "                n13           n14           n15         label  \n",
              "count  28322.000000  28322.000000  28322.000000  28322.000000  \n",
              "mean       0.089506      0.497570      2.997740      0.168067  \n",
              "std        0.285478      0.289207      2.007611      0.373933  \n",
              "min        0.000000      0.000101      0.000000      0.000000  \n",
              "25%        0.000000      0.247801      1.000000      0.000000  \n",
              "50%        0.000000      0.495255      3.000000      0.000000  \n",
              "75%        0.000000      0.748786      5.000000      0.000000  \n",
              "max        1.000000      0.999990      6.000000      1.000000  \n",
              "\n",
              "[8 rows x 21 columns]"
            ]
          },
          "execution_count": 22,
          "metadata": {},
          "output_type": "execute_result"
        }
      ],
      "source": [
        "train_df.describe()"
      ]
    },
    {
      "cell_type": "code",
      "execution_count": 23,
      "metadata": {
        "colab": {
          "base_uri": "https://localhost:8080/"
        },
        "id": "T56xy0zr02u5",
        "outputId": "88433d17-82a3-443f-8a4d-4bbfe4f1f4ff"
      },
      "outputs": [
        {
          "name": "stdout",
          "output_type": "stream",
          "text": [
            "<class 'pandas.core.frame.DataFrame'>\n",
            "RangeIndex: 28322 entries, 0 to 28321\n",
            "Data columns (total 36 columns):\n",
            " #   Column  Non-Null Count  Dtype  \n",
            "---  ------  --------------  -----  \n",
            " 0   id      28322 non-null  object \n",
            " 1   gender  28322 non-null  object \n",
            " 2   s11     28322 non-null  object \n",
            " 3   s12     28322 non-null  object \n",
            " 4   s13     28322 non-null  int64  \n",
            " 5   s16     28322 non-null  object \n",
            " 6   s17     28322 non-null  object \n",
            " 7   s18     28322 non-null  object \n",
            " 8   s48     28322 non-null  int64  \n",
            " 9   s52     28322 non-null  object \n",
            " 10  s53     28322 non-null  object \n",
            " 11  s54     2628 non-null   object \n",
            " 12  s55     3206 non-null   object \n",
            " 13  s56     0 non-null      float64\n",
            " 14  s57     0 non-null      float64\n",
            " 15  s58     28322 non-null  object \n",
            " 16  s59     0 non-null      float64\n",
            " 17  s69     28322 non-null  object \n",
            " 18  s70     28322 non-null  object \n",
            " 19  s71     28322 non-null  object \n",
            " 20  n1      28322 non-null  float64\n",
            " 21  n2      28322 non-null  float64\n",
            " 22  n3      28322 non-null  int64  \n",
            " 23  n4      28322 non-null  float64\n",
            " 24  n5      28322 non-null  float64\n",
            " 25  n6      28322 non-null  float64\n",
            " 26  n7      28322 non-null  float64\n",
            " 27  n8      28322 non-null  float64\n",
            " 28  n9      28322 non-null  float64\n",
            " 29  n10     28322 non-null  float64\n",
            " 30  n11     28322 non-null  float64\n",
            " 31  n12     28322 non-null  int64  \n",
            " 32  n13     28322 non-null  int64  \n",
            " 33  n14     28322 non-null  float64\n",
            " 34  n15     28322 non-null  int64  \n",
            " 35  label   28322 non-null  int64  \n",
            "dtypes: float64(14), int64(7), object(15)\n",
            "memory usage: 7.8+ MB\n"
          ]
        }
      ],
      "source": [
        "train_df.info()"
      ]
    },
    {
      "cell_type": "code",
      "execution_count": 24,
      "metadata": {
        "colab": {
          "base_uri": "https://localhost:8080/"
        },
        "id": "Y7IknNYb07-M",
        "outputId": "7ee48162-98a1-4d72-ca0d-d405391ab401"
      },
      "outputs": [
        {
          "data": {
            "text/plain": [
              "id          0.000000\n",
              "gender      0.000000\n",
              "s11         0.000000\n",
              "s12         0.000000\n",
              "s13         0.000000\n",
              "s16         0.000000\n",
              "s17         0.000000\n",
              "s18         0.000000\n",
              "s48         0.000000\n",
              "s52         0.000000\n",
              "s53         0.000000\n",
              "s54        90.720994\n",
              "s55        88.680178\n",
              "s56       100.000000\n",
              "s57       100.000000\n",
              "s58         0.000000\n",
              "s59       100.000000\n",
              "s69         0.000000\n",
              "s70         0.000000\n",
              "s71         0.000000\n",
              "n1          0.000000\n",
              "n2          0.000000\n",
              "n3          0.000000\n",
              "n4          0.000000\n",
              "n5          0.000000\n",
              "n6          0.000000\n",
              "n7          0.000000\n",
              "n8          0.000000\n",
              "n9          0.000000\n",
              "n10         0.000000\n",
              "n11         0.000000\n",
              "n12         0.000000\n",
              "n13         0.000000\n",
              "n14         0.000000\n",
              "n15         0.000000\n",
              "label       0.000000\n",
              "dtype: float64"
            ]
          },
          "execution_count": 24,
          "metadata": {},
          "output_type": "execute_result"
        }
      ],
      "source": [
        "# train_data.isnull().sum()\n",
        "train_df.isnull().mean()*100"
      ]
    },
    {
      "cell_type": "code",
      "execution_count": 28,
      "metadata": {
        "colab": {
          "base_uri": "https://localhost:8080/",
          "height": 210
        },
        "id": "wYUxvA8p29gO",
        "outputId": "6364af53-2d67-40f1-95e7-a04d4530f9c8"
      },
      "outputs": [
        {
          "ename": "AttributeError",
          "evalue": "'NoneType' object has no attribute 'drop'",
          "output_type": "error",
          "traceback": [
            "\u001b[1;31m---------------------------------------------------------------------------\u001b[0m",
            "\u001b[1;31mAttributeError\u001b[0m                            Traceback (most recent call last)",
            "\u001b[1;32mf:\\Code\\Python\\Internship\\Task\\Surprise_Exam.ipynb Cell 6\u001b[0m line \u001b[0;36m3\n\u001b[0;32m      <a href='vscode-notebook-cell:/f%3A/Code/Python/Internship/Task/Surprise_Exam.ipynb#W5sZmlsZQ%3D%3D?line=0'>1</a>\u001b[0m \u001b[39m# train_data[\"s54\"].fillna(train_data[\"s54\"].mode()[0],inplace=True)\u001b[39;00m\n\u001b[0;32m      <a href='vscode-notebook-cell:/f%3A/Code/Python/Internship/Task/Surprise_Exam.ipynb#W5sZmlsZQ%3D%3D?line=1'>2</a>\u001b[0m \u001b[39m# train_data[\"s55\"].fillna(train_data[\"s55\"].mode()[0],inplace=True)\u001b[39;00m\n\u001b[1;32m----> <a href='vscode-notebook-cell:/f%3A/Code/Python/Internship/Task/Surprise_Exam.ipynb#W5sZmlsZQ%3D%3D?line=2'>3</a>\u001b[0m train_df2\u001b[39m=\u001b[39mtrain_df\u001b[39m.\u001b[39mdrop(columns\u001b[39m=\u001b[39m[\u001b[39m\"\u001b[39m\u001b[39ms54\u001b[39m\u001b[39m\"\u001b[39m,\u001b[39m\"\u001b[39m\u001b[39ms55\u001b[39m\u001b[39m\"\u001b[39m,\u001b[39m\"\u001b[39m\u001b[39ms56\u001b[39m\u001b[39m\"\u001b[39m,\u001b[39m\"\u001b[39m\u001b[39ms57\u001b[39m\u001b[39m\"\u001b[39m,\u001b[39m\"\u001b[39m\u001b[39ms59\u001b[39m\u001b[39m\"\u001b[39m],inplace\u001b[39m=\u001b[39m\u001b[39mTrue\u001b[39;00m)\n",
            "\u001b[1;31mAttributeError\u001b[0m: 'NoneType' object has no attribute 'drop'"
          ]
        }
      ],
      "source": [
        "# train_data[\"s54\"].fillna(train_data[\"s54\"].mode()[0],inplace=True)\n",
        "# train_data[\"s55\"].fillna(train_data[\"s55\"].mode()[0],inplace=True)\n",
        "train_df2=train_df.drop(columns=[\"s54\",\"s55\",\"s56\",\"s57\",\"s59\"],inplace=True)\n"
      ]
    },
    {
      "cell_type": "code",
      "execution_count": 16,
      "metadata": {
        "id": "H5trouxl29Wy"
      },
      "outputs": [
        {
          "ename": "AttributeError",
          "evalue": "'NoneType' object has no attribute 'insnull'",
          "output_type": "error",
          "traceback": [
            "\u001b[1;31m---------------------------------------------------------------------------\u001b[0m",
            "\u001b[1;31mAttributeError\u001b[0m                            Traceback (most recent call last)",
            "\u001b[1;32mf:\\Code\\Python\\Internship\\Task\\Surprise_Exam.ipynb Cell 8\u001b[0m line \u001b[0;36m1\n\u001b[1;32m----> <a href='vscode-notebook-cell:/f%3A/Code/Python/Internship/Task/Surprise_Exam.ipynb#X11sZmlsZQ%3D%3D?line=0'>1</a>\u001b[0m train_df\u001b[39m.\u001b[39minsnull()\u001b[39m.\u001b[39msum()\n",
            "\u001b[1;31mAttributeError\u001b[0m: 'NoneType' object has no attribute 'insnull'"
          ]
        }
      ],
      "source": [
        "train_df.insnull().sum()"
      ]
    },
    {
      "cell_type": "code",
      "execution_count": null,
      "metadata": {
        "id": "jQqSxwFW29RV"
      },
      "outputs": [],
      "source": [
        "from sklearn.preprocessing import LabelEncoder\n",
        "encoder=LabelEncoder()\n",
        "\n",
        "for column in train_df.columns:\n",
        "    if train_df[column].dtype == 'object': \n",
        "        train_df[column] = encoder.fit_transform(train_df[column])"
      ]
    },
    {
      "cell_type": "code",
      "execution_count": null,
      "metadata": {},
      "outputs": [],
      "source": []
    },
    {
      "cell_type": "code",
      "execution_count": null,
      "metadata": {},
      "outputs": [],
      "source": [
        "train_df.head()"
      ]
    },
    {
      "cell_type": "code",
      "execution_count": null,
      "metadata": {},
      "outputs": [],
      "source": []
    },
    {
      "cell_type": "code",
      "execution_count": null,
      "metadata": {},
      "outputs": [],
      "source": []
    },
    {
      "cell_type": "code",
      "execution_count": null,
      "metadata": {},
      "outputs": [],
      "source": []
    },
    {
      "cell_type": "code",
      "execution_count": null,
      "metadata": {},
      "outputs": [],
      "source": []
    },
    {
      "cell_type": "code",
      "execution_count": null,
      "metadata": {
        "id": "nn92fyyW1C3p"
      },
      "outputs": [],
      "source": [
        "test_data=pd.read_csv(\"/content/test.csv\")\n",
        "test_data.head()"
      ]
    },
    {
      "cell_type": "code",
      "execution_count": null,
      "metadata": {
        "id": "3ZZR05Xl1NUY"
      },
      "outputs": [],
      "source": [
        "test_data.shape"
      ]
    },
    {
      "cell_type": "code",
      "execution_count": null,
      "metadata": {
        "id": "NgBd5mZv1Sns"
      },
      "outputs": [],
      "source": [
        "test_data.info()"
      ]
    },
    {
      "cell_type": "code",
      "execution_count": null,
      "metadata": {
        "id": "U-E_1c0F1XVL"
      },
      "outputs": [],
      "source": [
        "test_data.describe()"
      ]
    },
    {
      "cell_type": "code",
      "execution_count": null,
      "metadata": {
        "id": "zYcfVY8X1amT"
      },
      "outputs": [],
      "source": [
        "test_data.isnull().sum()"
      ]
    },
    {
      "cell_type": "code",
      "execution_count": null,
      "metadata": {
        "id": "wiWEMf391fwp"
      },
      "outputs": [],
      "source": []
    }
  ],
  "metadata": {
    "colab": {
      "provenance": []
    },
    "kernelspec": {
      "display_name": "Python 3",
      "name": "python3"
    },
    "language_info": {
      "codemirror_mode": {
        "name": "ipython",
        "version": 3
      },
      "file_extension": ".py",
      "mimetype": "text/x-python",
      "name": "python",
      "nbconvert_exporter": "python",
      "pygments_lexer": "ipython3",
      "version": "3.10.7"
    }
  },
  "nbformat": 4,
  "nbformat_minor": 0
}
